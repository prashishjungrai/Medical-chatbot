{
 "cells": [
  {
   "cell_type": "code",
   "execution_count": null,
   "id": "8bf91797-6073-4858-907b-35c1d3eb4a05",
   "metadata": {},
   "outputs": [],
   "source": []
  }
 ],
 "metadata": {
  "kernelspec": {
   "display_name": "",
   "name": ""
  },
  "language_info": {
   "name": ""
  }
 },
 "nbformat": 4,
 "nbformat_minor": 5
}
